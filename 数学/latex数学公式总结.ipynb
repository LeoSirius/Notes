{
 "cells": [
  {
   "cell_type": "markdown",
   "metadata": {},
   "source": [
    "# latex数学公式总结\n",
    "\n",
    "## 行内模式和展示模式\n",
    "\n",
    "- 行内模式用一个\\$，不会换行\n",
    "- 展示模式用两个$，会换行展示，类似于css中的block\n",
    "\n",
    "我是一个$y=ab+b$测试用行\n",
    "\n",
    "我是一个$$y=ax+b$$测试用行"
   ]
  },
  {
   "cell_type": "markdown",
   "metadata": {},
   "source": [
    "## 上标和下标\n",
    "\n",
    "$$e^2$$\n",
    "$$e^2x$$\n",
    "$$e^{2x}$$\n",
    "$$C^2_{5^2}$$\n",
    "$$_bC_a$$"
   ]
  },
  {
   "cell_type": "markdown",
   "metadata": {},
   "source": [
    "## 命令和符号\n",
    "\n",
    "命令和符号以反斜杠开始，然后跟上命令名或符号名。很多希腊字母符号都可以这样表示\n",
    "\n",
    "$$\\sqrt{2\\pi}$$"
   ]
  },
  {
   "cell_type": "markdown",
   "metadata": {},
   "source": [
    "## 帽子、横杠、点\n",
    "\n",
    "$$\\hat xy$$\n",
    "$$\\hat{xy}$$\n",
    "$$\\widehat{xy}$$\n",
    "\n",
    "$$\\bar ab$$\n",
    "$$\\overline{abs}$$\n",
    "\n",
    "$$\\dot xx$$\n",
    "$$\\dot{xx}$$\n",
    "$$\\ddot{x}$$\n",
    "\n",
    "$$\\vec{a}$$\n",
    "$$\\vec{abc}$$\n",
    "$$\\overrightarrow{abc}$$"
   ]
  },
  {
   "cell_type": "markdown",
   "metadata": {},
   "source": [
    "## 括号\n",
    "\n",
    "普通括号是不会自动拉长的\n",
    "\n",
    "$$z=(\\frac{dx}{dy})^{1/3}$$\n",
    "\n",
    "$$z=\\left(\\frac{dx}{dy}\\right)^{1/3}$$\n",
    "\n",
    "其他特殊括号\n",
    "\n",
    "* mid宽度比vert大一些\n",
    "\n",
    "$$\\mid{ab}$$\n",
    "$$\\vert{ab}$$\n",
    "\n",
    "* 尖括号langle, rangle\n",
    "\n",
    "$${\\langle}{\\phi}{\\mid}\\psi{\\rangle}$$\n",
    "\n",
    "* 矩阵括号，分为方的或圆的\n",
    "\n",
    "$$\\left[\\begin{matrix}\n",
    "a & b \\cr \n",
    "c & d \n",
    "\\end{matrix}\\right]$$"
   ]
  },
  {
   "cell_type": "markdown",
   "metadata": {},
   "source": []
  },
  {
   "cell_type": "code",
   "execution_count": null,
   "metadata": {},
   "outputs": [],
   "source": []
  },
  {
   "cell_type": "code",
   "execution_count": null,
   "metadata": {},
   "outputs": [],
   "source": []
  }
 ],
 "metadata": {
  "kernelspec": {
   "display_name": "Python 3",
   "language": "python",
   "name": "python3"
  },
  "language_info": {
   "codemirror_mode": {
    "name": "ipython",
    "version": 3
   },
   "file_extension": ".py",
   "mimetype": "text/x-python",
   "name": "python",
   "nbconvert_exporter": "python",
   "pygments_lexer": "ipython3",
   "version": "3.7.3"
  },
  "toc": {
   "base_numbering": 1,
   "nav_menu": {},
   "number_sections": true,
   "sideBar": true,
   "skip_h1_title": false,
   "title_cell": "Table of Contents",
   "title_sidebar": "Contents",
   "toc_cell": false,
   "toc_position": {},
   "toc_section_display": true,
   "toc_window_display": true
  }
 },
 "nbformat": 4,
 "nbformat_minor": 2
}
